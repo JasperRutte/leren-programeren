{
 "cells": [
  {
   "cell_type": "code",
   "execution_count": null,
   "metadata": {},
   "outputs": [],
   "source": [
    "import RobotArm\n",
    "\n",
    "robotArm = RobotArm.RobotArm('exercise 1')\n",
    "# Jouw python instructies zet je vanaf hier:\n",
    "robotArm.moveRight()\n",
    "robotArm.grab()\n",
    "robotArm.moveLeft()\n",
    "robotArm.drop()\n",
    "\n",
    "# Na jouw code wachten tot het sluiten van de window:\n",
    "robotArm.wait()"
   ]
  },
  {
   "cell_type": "code",
   "execution_count": null,
   "metadata": {},
   "outputs": [],
   "source": [
    "from RobotArm import RobotArm\n",
    "\n",
    "robotArm = RobotArm('exercise 2')\n",
    "robotArm.speed=3\n",
    "# Jouw python instructies zet je vanaf hier:  \n",
    "robotArm.grab()\n",
    "robotArm.moveRight()\n",
    "for i in range(1, 9):\n",
    "    robotArm.moveRight()\n",
    "robotArm.drop()\n",
    "for i in range(1, 3):\n",
    "    robotArm.moveLeft()\n",
    "robotArm.grab()\n",
    "for i in range(1, 3):\n",
    "    robotArm.moveRight()\n",
    "robotArm.drop()\n",
    "for i in range(1, 6):\n",
    "    robotArm.moveLeft()\n",
    "robotArm.grab()\n",
    "for i in range(1, 6):\n",
    "    robotArm.moveRight()\n",
    "robotArm.drop()\n",
    "# Na jouw code wachten tot het sluiten van de window:\n",
    "robotArm.wait()"
   ]
  },
  {
   "cell_type": "code",
   "execution_count": null,
   "metadata": {},
   "outputs": [],
   "source": [
    "from RobotArm import RobotArm\n",
    "\n",
    "robotArm = RobotArm('exercise 3')\n",
    "\n",
    "# Jouw python instructies zet je vanaf hier:\n",
    "for i in range(1, 5):\n",
    "    robotArm.grab()\n",
    "    robotArm.moveRight()\n",
    "    robotArm.drop()\n",
    "    robotArm.moveLeft()\n",
    "\n",
    "# Na jouw code wachten tot het sluiten van de window:\n",
    "robotArm.wait()"
   ]
  },
  {
   "cell_type": "code",
   "execution_count": null,
   "metadata": {},
   "outputs": [],
   "source": [
    "from RobotArm import RobotArm\n",
    "\n",
    "robotArm = RobotArm('exercise 4')\n",
    "\n",
    "# Jouw python instructies zet je vanaf hier:\n",
    "robotArm.grab()\n",
    "robotArm.moveRight()\n",
    "robotArm.moveRight()\n",
    "robotArm.drop()\n",
    "robotArm.moveLeft()\n",
    "robotArm.moveLeft()\n",
    "robotArm.grab()\n",
    "robotArm.moveRight()\n",
    "robotArm.moveRight()\n",
    "robotArm.drop()\n",
    "robotArm.moveLeft()\n",
    "robotArm.moveLeft()\n",
    "robotArm.grab()\n",
    "robotArm.moveRight()\n",
    "robotArm.drop()\n",
    "robotArm.moveRight()\n",
    "robotArm.grab()\n",
    "robotArm.moveLeft()\n",
    "robotArm.drop()\n",
    "robotArm.moveRight()\n",
    "robotArm.grab()\n",
    "robotArm.moveLeft()\n",
    "robotArm.drop()\n",
    "\n",
    "# Na jouw code wachten tot het sluiten van de window:\n",
    "robotArm.wait()"
   ]
  },
  {
   "cell_type": "code",
   "execution_count": null,
   "metadata": {},
   "outputs": [],
   "source": [
    "from RobotArm import RobotArm\n",
    "\n",
    "robotArm = RobotArm('exercise 6')\n",
    "\n",
    "# Jouw python instructies zet je vanaf hier:\n",
    "for i in range(1, 8):\n",
    "    robotArm.moveRight()\n",
    "robotArm.grab()\n",
    "robotArm.moveRight()\n",
    "robotArm.drop()\n",
    "for i in range(1, 8):\n",
    "    robotArm.moveLeft()\n",
    "    robotArm.moveLeft()\n",
    "    robotArm.grab()\n",
    "    robotArm.moveRight()\n",
    "    robotArm.drop()\n",
    "\n",
    "\n",
    "# Na jouw code wachten tot het sluiten van de window:\n",
    "robotArm.wait()"
   ]
  },
  {
   "cell_type": "code",
   "execution_count": null,
   "metadata": {},
   "outputs": [],
   "source": [
    "from RobotArm import RobotArm\n",
    "\n",
    "robotArm = RobotArm('exercise 7')\n",
    "\n",
    "# Jouw python instructies zet je vanaf hier:\n",
    "\n",
    "\n",
    "# Na jouw code wachten tot het sluiten van de window:\n",
    "robotArm.wait()"
   ]
  },
  {
   "cell_type": "code",
   "execution_count": null,
   "metadata": {},
   "outputs": [],
   "source": [
    "from RobotArm import RobotArm\n",
    "\n",
    "robotArm = RobotArm('exercise 8')\n",
    "\n",
    "# Jouw python instructies zet je vanaf hier:\n",
    "\n",
    "\n",
    "# Na jouw code wachten tot het sluiten van de window:\n",
    "robotArm.wait()"
   ]
  },
  {
   "cell_type": "code",
   "execution_count": null,
   "metadata": {},
   "outputs": [],
   "source": [
    "from RobotArm import RobotArm\n",
    "\n",
    "robotArm = RobotArm('exercise 9')\n",
    "\n",
    "# Jouw python instructies zet je vanaf hier:\n",
    "\n",
    "\n",
    "# Na jouw code wachten tot het sluiten van de window:\n",
    "robotArm.wait()"
   ]
  },
  {
   "cell_type": "code",
   "execution_count": null,
   "metadata": {},
   "outputs": [],
   "source": [
    "from RobotArm import RobotArm\n",
    "\n",
    "robotArm = RobotArm('exercise 10')\n",
    "\n",
    "# Jouw python instructies zet je vanaf hier:\n",
    "\n",
    "\n",
    "# Na jouw code wachten tot het sluiten van de window:\n",
    "robotArm.wait()"
   ]
  },
  {
   "cell_type": "code",
   "execution_count": null,
   "metadata": {},
   "outputs": [],
   "source": [
    "from RobotArm import RobotArm\n",
    "\n",
    "robotArm = RobotArm('exercise 11')\n",
    "\n",
    "# Jouw python instructies zet je vanaf hier:\n",
    "\n",
    "\n",
    "# Na jouw code wachten tot het sluiten van de window:\n",
    "robotArm.wait()"
   ]
  },
  {
   "cell_type": "code",
   "execution_count": null,
   "metadata": {},
   "outputs": [],
   "source": [
    "from RobotArm import RobotArm\n",
    "# Let op: hier start het anders voor een random level:\n",
    "robotArm = RobotArm()\n",
    "robotArm.randomLevel(1,7)\n",
    "\n",
    "# Jouw python instructies zet je vanaf hier:\n",
    "\n",
    "\n",
    "# Na jouw code wachten tot het sluiten van de window:\n",
    "robotArm.wait()"
   ]
  }
 ],
 "metadata": {
  "kernelspec": {
   "display_name": "Python 3.10.6 64-bit",
   "language": "python",
   "name": "python3"
  },
  "language_info": {
   "codemirror_mode": {
    "name": "ipython",
    "version": 3
   },
   "file_extension": ".py",
   "mimetype": "text/x-python",
   "name": "python",
   "nbconvert_exporter": "python",
   "pygments_lexer": "ipython3",
   "version": "3.10.6"
  },
  "orig_nbformat": 4,
  "vscode": {
   "interpreter": {
    "hash": "916dbcbb3f70747c44a77c7bcd40155683ae19c65e1c03b4aa3499c5328201f1"
   }
  }
 },
 "nbformat": 4,
 "nbformat_minor": 2
}
