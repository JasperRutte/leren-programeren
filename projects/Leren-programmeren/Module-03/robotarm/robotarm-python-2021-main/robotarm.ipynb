{
 "cells": [
  {
   "cell_type": "code",
   "execution_count": 3,
   "metadata": {},
   "outputs": [
    {
     "ename": "SystemExit",
     "evalue": "",
     "output_type": "error",
     "traceback": [
      "An exception has occurred, use %tb to see the full traceback.\n",
      "\u001b[0;31mSystemExit\u001b[0m\n"
     ]
    },
    {
     "ename": "",
     "evalue": "",
     "output_type": "error",
     "traceback": [
      "\u001b[1;31mThe Kernel crashed while executing code in the the current cell or a previous cell. Please review the code in the cell(s) to identify a possible cause of the failure. Click <a href='https://aka.ms/vscodeJupyterKernelCrash'>here</a> for more info. View Jupyter <a href='command:jupyter.viewOutput'>log</a> for further details."
     ]
    }
   ],
   "source": [
    "import RobotArm\n",
    "\n",
    "robotArm = RobotArm.RobotArm('exercise 1')\n",
    "# Jouw python instructies zet je vanaf hier:\n",
    "robotArm.moveRight()\n",
    "robotArm.grab()\n",
    "robotArm.moveLeft()\n",
    "robotArm.drop()\n",
    "\n",
    "# Na jouw code wachten tot het sluiten van de window:\n",
    "robotArm.wait()"
   ]
  },
  {
   "cell_type": "code",
   "execution_count": 1,
   "metadata": {},
   "outputs": [
    {
     "name": "stdout",
     "output_type": "stream",
     "text": [
      "pygame 2.1.2 (SDL 2.0.16, Python 3.10.6)\n",
      "Hello from the pygame community. https://www.pygame.org/contribute.html\n"
     ]
    },
    {
     "ename": "SystemExit",
     "evalue": "",
     "output_type": "error",
     "traceback": [
      "An exception has occurred, use %tb to see the full traceback.\n",
      "\u001b[0;31mSystemExit\u001b[0m\n"
     ]
    },
    {
     "name": "stderr",
     "output_type": "stream",
     "text": [
      "/home/jasper/.local/lib/python3.10/site-packages/IPython/core/interactiveshell.py:3386: UserWarning: To exit: use 'exit', 'quit', or Ctrl-D.\n",
      "  warn(\"To exit: use 'exit', 'quit', or Ctrl-D.\", stacklevel=1)\n"
     ]
    }
   ],
   "source": [
    "from RobotArm import RobotArm\n",
    "\n",
    "robotArm = RobotArm('exercise 2')\n",
    "robotArm.speed=3\n",
    "# Jouw python instructies zet je vanaf hier:  \n",
    "robotArm.grab()\n",
    "robotArm.moveRight()\n",
    "for i in range(1, 9):\n",
    "    robotArm.moveRight()\n",
    "robotArm.drop()\n",
    "for i in range(1, 3):\n",
    "    robotArm.moveLeft()\n",
    "robotArm.grab()\n",
    "for i in range(1, 3):\n",
    "    robotArm.moveRight()\n",
    "robotArm.drop()\n",
    "for i in range(1, 6):\n",
    "    robotArm.moveLeft()\n",
    "robotArm.grab()\n",
    "for i in range(1, 6):\n",
    "    robotArm.moveRight()\n",
    "robotArm.drop()\n",
    "# Na jouw code wachten tot het sluiten van de window:\n",
    "robotArm.wait()"
   ]
  },
  {
   "cell_type": "code",
   "execution_count": 3,
   "metadata": {},
   "outputs": [
    {
     "ename": "KeyboardInterrupt",
     "evalue": "",
     "output_type": "error",
     "traceback": [
      "\u001b[0;31m---------------------------------------------------------------------------\u001b[0m",
      "\u001b[0;31mKeyboardInterrupt\u001b[0m                         Traceback (most recent call last)",
      "Cell \u001b[0;32mIn [3], line 13\u001b[0m\n\u001b[1;32m     10\u001b[0m     robotArm\u001b[38;5;241m.\u001b[39mmoveLeft()\n\u001b[1;32m     12\u001b[0m \u001b[38;5;66;03m# Na jouw code wachten tot het sluiten van de window:\u001b[39;00m\n\u001b[0;32m---> 13\u001b[0m robotArm\u001b[38;5;241m.\u001b[39mwait()\n",
      "File \u001b[0;32m~/leren-programeren/projects/Leren-programmeren/Module-03/robotarm/robotarm-python-2021-main/RobotArm.py:425\u001b[0m, in \u001b[0;36mRobotArm.wait\u001b[0;34m(self, handler)\u001b[0m\n\u001b[1;32m    422\u001b[0m cycle \u001b[39m+\u001b[39m\u001b[39m=\u001b[39m \u001b[39m1\u001b[39m                                \u001b[39m# prepare for sleep\u001b[39;00m\n\u001b[1;32m    424\u001b[0m \u001b[39mif\u001b[39;00m cycle \u001b[39m>\u001b[39m \u001b[39mself\u001b[39m\u001b[39m.\u001b[39m_eventActiveCycles:       \u001b[39m# after 30 cycles \u001b[39;00m\n\u001b[0;32m--> 425\u001b[0m   pygame\u001b[39m.\u001b[39;49mtime\u001b[39m.\u001b[39;49mdelay(\u001b[39mself\u001b[39;49m\u001b[39m.\u001b[39;49m_eventSleepTime) \u001b[39m# go asleep for 300 milliseconds, give the processor some rest\u001b[39;00m\n\u001b[1;32m    426\u001b[0m   cycle \u001b[39m=\u001b[39m \u001b[39m0\u001b[39m\n",
      "\u001b[0;31mKeyboardInterrupt\u001b[0m: "
     ]
    }
   ],
   "source": [
    "from RobotArm import RobotArm\n",
    "\n",
    "robotArm = RobotArm('exercise 3')\n",
    "\n",
    "# Jouw python instructies zet je vanaf hier:\n",
    "for i in range(1, 5):\n",
    "    robotArm.grab()\n",
    "    robotArm.moveRight()\n",
    "    robotArm.drop()\n",
    "    robotArm.moveLeft()\n",
    "\n",
    "# Na jouw code wachten tot het sluiten van de window:\n",
    "robotArm.wait()"
   ]
  },
  {
   "cell_type": "code",
   "execution_count": 1,
   "metadata": {},
   "outputs": [
    {
     "name": "stdout",
     "output_type": "stream",
     "text": [
      "pygame 2.1.2 (SDL 2.0.16, Python 3.10.6)\n",
      "Hello from the pygame community. https://www.pygame.org/contribute.html\n"
     ]
    },
    {
     "ename": "SystemExit",
     "evalue": "",
     "output_type": "error",
     "traceback": [
      "An exception has occurred, use %tb to see the full traceback.\n",
      "\u001b[0;31mSystemExit\u001b[0m\n"
     ]
    },
    {
     "name": "stderr",
     "output_type": "stream",
     "text": [
      "/home/jasper/.local/lib/python3.10/site-packages/IPython/core/interactiveshell.py:3386: UserWarning: To exit: use 'exit', 'quit', or Ctrl-D.\n",
      "  warn(\"To exit: use 'exit', 'quit', or Ctrl-D.\", stacklevel=1)\n"
     ]
    },
    {
     "ename": "",
     "evalue": "",
     "output_type": "error",
     "traceback": [
      "\u001b[1;31mThe Kernel crashed while executing code in the the current cell or a previous cell. Please review the code in the cell(s) to identify a possible cause of the failure. Click <a href='https://aka.ms/vscodeJupyterKernelCrash'>here</a> for more info. View Jupyter <a href='command:jupyter.viewOutput'>log</a> for further details."
     ]
    }
   ],
   "source": [
    "from RobotArm import RobotArm\n",
    "\n",
    "robotArm = RobotArm('exercise 4')\n",
    "\n",
    "# Jouw python instructies zet je vanaf hier:\n",
    "robotArm.grab()\n",
    "robotArm.moveRight()\n",
    "robotArm.moveRight()\n",
    "robotArm.drop()\n",
    "robotArm.moveLeft()\n",
    "robotArm.moveLeft()\n",
    "robotArm.grab()\n",
    "robotArm.moveRight()\n",
    "robotArm.moveRight()\n",
    "robotArm.drop()\n",
    "robotArm.moveLeft()\n",
    "robotArm.moveLeft()\n",
    "robotArm.grab()\n",
    "robotArm.moveRight()\n",
    "robotArm.drop()\n",
    "robotArm.moveRight()\n",
    "robotArm.grab()\n",
    "robotArm.moveLeft()\n",
    "robotArm.drop()\n",
    "robotArm.moveRight()\n",
    "robotArm.grab()\n",
    "robotArm.moveLeft()\n",
    "robotArm.drop()\n",
    "\n",
    "# Na jouw code wachten tot het sluiten van de window:\n",
    "robotArm.wait()"
   ]
  },
  {
   "cell_type": "code",
   "execution_count": 1,
   "metadata": {},
   "outputs": [
    {
     "name": "stdout",
     "output_type": "stream",
     "text": [
      "pygame 2.1.2 (SDL 2.0.16, Python 3.10.6)\n",
      "Hello from the pygame community. https://www.pygame.org/contribute.html\n"
     ]
    },
    {
     "ename": "SystemExit",
     "evalue": "",
     "output_type": "error",
     "traceback": [
      "An exception has occurred, use %tb to see the full traceback.\n",
      "\u001b[0;31mSystemExit\u001b[0m\n"
     ]
    },
    {
     "name": "stderr",
     "output_type": "stream",
     "text": [
      "/home/jasper/.local/lib/python3.10/site-packages/IPython/core/interactiveshell.py:3386: UserWarning: To exit: use 'exit', 'quit', or Ctrl-D.\n",
      "  warn(\"To exit: use 'exit', 'quit', or Ctrl-D.\", stacklevel=1)\n"
     ]
    },
    {
     "ename": "",
     "evalue": "",
     "output_type": "error",
     "traceback": [
      "\u001b[1;31mThe Kernel crashed while executing code in the the current cell or a previous cell. Please review the code in the cell(s) to identify a possible cause of the failure. Click <a href='https://aka.ms/vscodeJupyterKernelCrash'>here</a> for more info. View Jupyter <a href='command:jupyter.viewOutput'>log</a> for further details."
     ]
    }
   ],
   "source": [
    "from RobotArm import RobotArm\n",
    "\n",
    "robotArm = RobotArm('exercise 6')\n",
    "\n",
    "# Jouw python instructies zet je vanaf hier:\n",
    "for i in range(1, 8):\n",
    "    robotArm.moveRight()\n",
    "robotArm.grab()\n",
    "robotArm.moveRight()\n",
    "robotArm.drop()\n",
    "for i in range(1, 8):\n",
    "    robotArm.moveLeft()\n",
    "    robotArm.moveLeft()\n",
    "    robotArm.grab()\n",
    "    robotArm.moveRight()\n",
    "    robotArm.drop()\n",
    "\n",
    "\n",
    "# Na jouw code wachten tot het sluiten van de window:\n",
    "robotArm.wait()"
   ]
  },
  {
   "cell_type": "code",
   "execution_count": null,
   "metadata": {},
   "outputs": [],
   "source": [
    "from RobotArm import RobotArm\n",
    "\n",
    "robotArm = RobotArm('exercise 7')\n",
    "\n",
    "# Jouw python instructies zet je vanaf hier:\n",
    "\n",
    "\n",
    "# Na jouw code wachten tot het sluiten van de window:\n",
    "robotArm.wait()"
   ]
  },
  {
   "cell_type": "code",
   "execution_count": null,
   "metadata": {},
   "outputs": [],
   "source": [
    "from RobotArm import RobotArm\n",
    "\n",
    "robotArm = RobotArm('exercise 8')\n",
    "\n",
    "# Jouw python instructies zet je vanaf hier:\n",
    "\n",
    "\n",
    "# Na jouw code wachten tot het sluiten van de window:\n",
    "robotArm.wait()"
   ]
  },
  {
   "cell_type": "code",
   "execution_count": null,
   "metadata": {},
   "outputs": [],
   "source": [
    "from RobotArm import RobotArm\n",
    "\n",
    "robotArm = RobotArm('exercise 9')\n",
    "\n",
    "# Jouw python instructies zet je vanaf hier:\n",
    "\n",
    "\n",
    "# Na jouw code wachten tot het sluiten van de window:\n",
    "robotArm.wait()"
   ]
  },
  {
   "cell_type": "code",
   "execution_count": null,
   "metadata": {},
   "outputs": [],
   "source": [
    "from RobotArm import RobotArm\n",
    "\n",
    "robotArm = RobotArm('exercise 10')\n",
    "\n",
    "# Jouw python instructies zet je vanaf hier:\n",
    "\n",
    "\n",
    "# Na jouw code wachten tot het sluiten van de window:\n",
    "robotArm.wait()"
   ]
  },
  {
   "cell_type": "code",
   "execution_count": null,
   "metadata": {},
   "outputs": [],
   "source": [
    "from RobotArm import RobotArm\n",
    "\n",
    "robotArm = RobotArm('exercise 11')\n",
    "\n",
    "# Jouw python instructies zet je vanaf hier:\n",
    "\n",
    "\n",
    "# Na jouw code wachten tot het sluiten van de window:\n",
    "robotArm.wait()"
   ]
  },
  {
   "cell_type": "code",
   "execution_count": null,
   "metadata": {},
   "outputs": [],
   "source": [
    "from RobotArm import RobotArm\n",
    "# Let op: hier start het anders voor een random level:\n",
    "robotArm = RobotArm()\n",
    "robotArm.randomLevel(1,7)\n",
    "\n",
    "# Jouw python instructies zet je vanaf hier:\n",
    "\n",
    "\n",
    "# Na jouw code wachten tot het sluiten van de window:\n",
    "robotArm.wait()"
   ]
  }
 ],
 "metadata": {
  "kernelspec": {
   "display_name": "Python 3.10.6 64-bit",
   "language": "python",
   "name": "python3"
  },
  "language_info": {
   "codemirror_mode": {
    "name": "ipython",
    "version": 3
   },
   "file_extension": ".py",
   "mimetype": "text/x-python",
   "name": "python",
   "nbconvert_exporter": "python",
   "pygments_lexer": "ipython3",
   "version": "3.10.6"
  },
  "orig_nbformat": 4,
  "vscode": {
   "interpreter": {
    "hash": "916dbcbb3f70747c44a77c7bcd40155683ae19c65e1c03b4aa3499c5328201f1"
   }
  }
 },
 "nbformat": 4,
 "nbformat_minor": 2
}
