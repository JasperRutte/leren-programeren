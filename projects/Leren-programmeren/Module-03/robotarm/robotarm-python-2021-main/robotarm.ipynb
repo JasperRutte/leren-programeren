{
 "cells": [
  {
   "cell_type": "code",
   "execution_count": 2,
   "metadata": {},
   "outputs": [
    {
     "ename": "NameError",
     "evalue": "name 'robotarm' is not defined",
     "output_type": "error",
     "traceback": [
      "\u001b[0;31m---------------------------------------------------------------------------\u001b[0m",
      "\u001b[0;31mNameError\u001b[0m                                 Traceback (most recent call last)",
      "Cell \u001b[0;32mIn [2], line 6\u001b[0m\n\u001b[1;32m      3\u001b[0m robotArm \u001b[38;5;241m=\u001b[39m RobotArm\u001b[38;5;241m.\u001b[39mRobotArm(\u001b[38;5;124m'\u001b[39m\u001b[38;5;124mexercise 1\u001b[39m\u001b[38;5;124m'\u001b[39m)\n\u001b[1;32m      5\u001b[0m \u001b[38;5;66;03m# Jouw python instructies zet je vanaf hier:\u001b[39;00m\n\u001b[0;32m----> 6\u001b[0m robotarm\u001b[38;5;241m.\u001b[39mspeed \u001b[38;5;241m=\u001b[39m \u001b[38;5;241m5\u001b[39m\n\u001b[1;32m      7\u001b[0m robotArm\u001b[38;5;241m.\u001b[39mmoveRight()\n\u001b[1;32m      8\u001b[0m robotArm\u001b[38;5;241m.\u001b[39mgrab()\n",
      "\u001b[0;31mNameError\u001b[0m: name 'robotarm' is not defined"
     ]
    },
    {
     "ename": "",
     "evalue": "",
     "output_type": "error",
     "traceback": [
      "\u001b[1;31mThe Kernel crashed while executing code in the the current cell or a previous cell. Please review the code in the cell(s) to identify a possible cause of the failure. Click <a href='https://aka.ms/vscodeJupyterKernelCrash'>here</a> for more info. View Jupyter <a href='command:jupyter.viewOutput'>log</a> for further details."
     ]
    }
   ],
   "source": [
    "import RobotArm\n",
    "\n",
    "robotArm = RobotArm.RobotArm('exercise 1')\n",
    "\n",
    "robotArm.speed=5\n",
    "robotArm._speeds[5]= {'fps': 1000,'step': 1000}\n",
    "# Jouw python instructies zet je vanaf hier:\n",
    "robotArm.moveRight()\n",
    "robotArm.grab()\n",
    "robotArm.moveLeft()\n",
    "robotArm.drop()\n",
    "\n",
    "# Na jouw code wachten tot het sluiten van de window:\n",
    "robotArm.wait()"
   ]
  }
 ],
 "metadata": {
  "kernelspec": {
   "display_name": "Python 3.10.6 64-bit",
   "language": "python",
   "name": "python3"
  },
  "language_info": {
   "codemirror_mode": {
    "name": "ipython",
    "version": 3
   },
   "file_extension": ".py",
   "mimetype": "text/x-python",
   "name": "python",
   "nbconvert_exporter": "python",
   "pygments_lexer": "ipython3",
   "version": "3.10.6"
  },
  "orig_nbformat": 4,
  "vscode": {
   "interpreter": {
    "hash": "916dbcbb3f70747c44a77c7bcd40155683ae19c65e1c03b4aa3499c5328201f1"
   }
  }
 },
 "nbformat": 4,
 "nbformat_minor": 2
}
