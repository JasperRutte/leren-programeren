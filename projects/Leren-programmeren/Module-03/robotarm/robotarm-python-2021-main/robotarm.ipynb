{
 "cells": [
  {
   "cell_type": "code",
   "execution_count": null,
   "metadata": {
    "pycharm": {
     "is_executing": true,
     "name": "#%%\n"
    }
   },
   "outputs": [],
   "source": [
    "import RobotArm\n",
    "robotArm = RobotArm.RobotArm('exercise 1')\n",
    "# Jouw python instructies zet je vanaf hier:\n",
    "robotArm.moveRight()\n",
    "robotArm.grab()\n",
    "robotArm.moveLeft()\n",
    "robotArm.drop()\n",
    "\n",
    "# Na jouw code wachten tot het sluiten van de window:\n",
    "robotArm.wait()"
   ]
  },
  {
   "cell_type": "code",
   "execution_count": null,
   "metadata": {
    "pycharm": {
     "name": "#%%\n"
    }
   },
   "outputs": [],
   "source": [
    "from RobotArm import RobotArm\n",
    "\n",
    "robotArm = RobotArm('exercise 2')\n",
    "robotArm.speed=3\n",
    "# Jouw python instructies zet je vanaf hier:  \n",
    "robotArm.grab()\n",
    "robotArm.moveRight()\n",
    "for i in range(1, 9):\n",
    "    robotArm.moveRight()\n",
    "robotArm.drop()\n",
    "for i in range(1, 3):\n",
    "    robotArm.moveLeft()\n",
    "robotArm.grab()\n",
    "for i in range(1, 3):\n",
    "    robotArm.moveRight()\n",
    "robotArm.drop()\n",
    "for i in range(1, 6):\n",
    "    robotArm.moveLeft()\n",
    "robotArm.grab()\n",
    "for i in range(1, 6):\n",
    "    robotArm.moveRight()\n",
    "robotArm.drop()\n",
    "# Na jouw code wachten tot het sluiten van de window:\n",
    "robotArm.wait()"
   ]
  },
  {
   "cell_type": "code",
   "execution_count": null,
   "metadata": {
    "pycharm": {
     "name": "#%%\n"
    }
   },
   "outputs": [],
   "source": [
    "from RobotArm import RobotArm\n",
    "\n",
    "robotArm = RobotArm('exercise 3')\n",
    "\n",
    "# Jouw python instructies zet je vanaf hier:\n",
    "for i in range(1, 5):\n",
    "    robotArm.grab()\n",
    "    robotArm.moveRight()\n",
    "    robotArm.drop()\n",
    "    robotArm.moveLeft()\n",
    "\n",
    "# Na jouw code wachten tot het sluiten van de window:\n",
    "robotArm.wait()"
   ]
  },
  {
   "cell_type": "code",
   "execution_count": null,
   "metadata": {
    "pycharm": {
     "name": "#%%\n"
    }
   },
   "outputs": [],
   "source": [
    "from RobotArm import RobotArm\n",
    "\n",
    "robotArm = RobotArm('exercise 4')\n",
    "\n",
    "# Jouw python instructies zet je vanaf hier:\n",
    "robotArm.grab()\n",
    "robotArm.moveRight()\n",
    "robotArm.moveRight()\n",
    "robotArm.drop()\n",
    "robotArm.moveLeft()\n",
    "robotArm.moveLeft()\n",
    "robotArm.grab()\n",
    "robotArm.moveRight()\n",
    "robotArm.moveRight()\n",
    "robotArm.drop()\n",
    "robotArm.moveLeft()\n",
    "robotArm.moveLeft()\n",
    "robotArm.grab()\n",
    "robotArm.moveRight()\n",
    "robotArm.drop()\n",
    "robotArm.moveRight()\n",
    "robotArm.grab()\n",
    "robotArm.moveLeft()\n",
    "robotArm.drop()\n",
    "robotArm.moveRight()\n",
    "robotArm.grab()\n",
    "robotArm.moveLeft()\n",
    "robotArm.drop()\n",
    "\n",
    "# Na jouw code wachten tot het sluiten van de window:\n",
    "robotArm.wait()"
   ]
  },
  {
   "cell_type": "code",
   "execution_count": null,
   "metadata": {
    "pycharm": {
     "name": "#%%\n"
    }
   },
   "outputs": [],
   "source": [
    "from RobotArm import RobotArm\n",
    "robotArm = RobotArm('exercise 6')\n",
    "# Jouw python instructies zet je vanaf hier:\n",
    "for i in range(1, 8):\n",
    "    robotArm.moveRight()\n",
    "robotArm.grab()\n",
    "robotArm.moveRight()\n",
    "robotArm.drop()\n",
    "for i in range(1, 8):\n",
    "    robotArm.moveLeft()\n",
    "    robotArm.moveLeft()\n",
    "    robotArm.grab()\n",
    "    robotArm.moveRight()\n",
    "    robotArm.drop()\n",
    "\n",
    "\n",
    "# Na jouw code wachten tot het sluiten van de window:\n",
    "robotArm.wait()"
   ]
  },
  {
   "cell_type": "code",
   "execution_count": null,
   "metadata": {
    "pycharm": {
     "name": "#%%\n"
    }
   },
   "outputs": [
    {
     "ename": "SystemExit",
     "evalue": "",
     "output_type": "error",
     "traceback": [
      "An exception has occurred, use %tb to see the full traceback.\n",
      "\n",
      "\u001B[0;31mSystemExit\u001B[0m\n"
     ]
    },
    {
     "ename": "",
     "evalue": "",
     "output_type": "error",
     "traceback": [
      "\u001B[1;31mThe Kernel crashed while executing code in the the current cell or a previous cell. Please review the code in the cell(s) to identify a possible cause of the failure. Click <a href='https://aka.ms/vscodeJupyterKernelCrash'>here</a> for more info. View Jupyter <a href='command:jupyter.viewOutput'>log</a> for further details."
     ]
    }
   ],
   "source": [
    "from RobotArm import RobotArm\n",
    "robotArm = RobotArm('exercise 6')\n",
    "robotArm.speed=5\n",
    "robotArm._speeds[5]= {'fps': 1000,'step': 1000}\n",
    "# Jouw python instructies zet je vanaf hier:\n",
    "for i in range(1, 8):\n",
    "    robotArm.moveRight()\n",
    "robotArm.grab()\n",
    "robotArm.moveRight()\n",
    "robotArm.drop()\n",
    "for i in range(1, 8):\n",
    "    robotArm.moveLeft()\n",
    "    robotArm.moveLeft()\n",
    "    robotArm.grab()\n",
    "    robotArm.moveRight()\n",
    "    robotArm.drop()\n",
    "\n",
    "\n",
    "# Na jouw code wachten tot het sluiten van de window:\n",
    "robotArm.wait()"
   ]
  },
  {
   "cell_type": "code",
   "execution_count": null,
   "outputs": [],
   "source": [
    "from RobotArm import RobotArm\n",
    "\n",
    "robotArm = RobotArm('exercise 7')\n",
    "robotArm.speed=5\n",
    "robotArm._speeds[5]= {'fps': 1000,'step': 1000}\n",
    "# Jouw python instructies zet je vanaf hier:\n",
    "for i in range(5):\n",
    "    for i in range(6):\n",
    "        robotArm.moveRight()\n",
    "        robotArm.grab()\n",
    "        robotArm.moveLeft()\n",
    "        robotArm.drop()\n",
    "    for i in range(2):\n",
    "        robotArm.moveRight()\n",
    "\n",
    "# Na jouw code wachten tot het sluiten van de window:\n",
    "robotArm.wait()"
   ],
   "metadata": {
    "collapsed": false,
    "pycharm": {
     "name": "#%%\n"
    }
   }
  },
  {
   "cell_type": "code",
   "execution_count": null,
   "outputs": [],
   "source": [
    "from RobotArm import RobotArm\n",
    "\n",
    "robotArm = RobotArm('exercise 8')\n",
    "# Jouw python instructies zet je vanaf hier:\n",
    "robotArm.moveRight()\n",
    "for i in range(7):\n",
    "    robotArm.grab()\n",
    "    for i in range(8):\n",
    "        robotArm.moveRight()\n",
    "    robotArm.drop()\n",
    "    for i in range(8):\n",
    "        robotArm.moveLeft()\n",
    "robotArm.wait()\n",
    "\n",
    "# Na jouw code wachten tot het sluiten van de window:\n",
    "robotArm.wait()"
   ],
   "metadata": {
    "collapsed": false,
    "pycharm": {
     "name": "#%%\n"
    }
   }
  },
  {
   "cell_type": "code",
   "execution_count": null,
   "outputs": [],
   "source": [
    "from RobotArm import RobotArm\n",
    "\n",
    "robotArm = RobotArm('exercise 9')\n",
    "\n",
    "# Jouw python instructies zet je vanaf hier:\n",
    "for i in range(4):\n",
    "    robotArm.moveRight()\n",
    "for i in range(3):\n",
    "    for i in range(4):\n",
    "        robotArm.grab()\n",
    "        for i in range(5):\n",
    "            robotArm.moveRight()\n",
    "        robotArm.drop()\n",
    "        for i in range(5):\n",
    "            robotArm.moveLeft()\n",
    "    robotArm.moveLeft()\n",
    "\n",
    "\n",
    "# Na jouw code wachten tot het sluiten van de window:\n",
    "robotArm.wait()"
   ],
   "metadata": {
    "collapsed": false,
    "pycharm": {
     "name": "#%%\n"
    }
   }
  },
  {
   "cell_type": "code",
   "execution_count": null,
   "outputs": [],
   "source": [
    "from RobotArm import RobotArm\n",
    "\n",
    "robotArm = RobotArm('exercise 10')\n",
    "\n",
    "# Jouw python instructies zet je vanaf hier:\n",
    "robotArm.grab()\n",
    "for i in range(9):\n",
    "    robotArm.moveRight()\n",
    "robotArm.drop()\n",
    "for i in range(4):\n",
    "    for i in range(5):\n",
    "        robotArm.moveLeft()\n",
    "    robotArm.grab()\n",
    "    for i in range(4):\n",
    "        robotArm.moveRight()\n",
    "    robotArm.drop()\n",
    "# Na jouw code wachten tot het sluiten van de window:\n",
    "robotArm.wait()"
   ],
   "metadata": {
    "collapsed": false,
    "pycharm": {
     "name": "#%%\n"
    }
   }
  },
  {
   "cell_type": "code",
   "execution_count": null,
   "metadata": {
    "pycharm": {
     "name": "#%%\n"
    }
   },
   "outputs": [],
   "source": [
    "from RobotArm import RobotArm\n",
    "\n",
    "robotArm = RobotArm('exercise 11')\n",
    "\n",
    "# Jouw python instructies zet je vanaf hier:\n",
    "\n",
    "\n",
    "# Na jouw code wachten tot het sluiten van de window:\n",
    "robotArm.wait()"
   ]
  },
  {
   "cell_type": "code",
   "execution_count": null,
   "metadata": {
    "pycharm": {
     "name": "#%%\n"
    }
   },
   "outputs": [],
   "source": [
    "from RobotArm import RobotArm\n",
    "# Let op: hier start het anders voor een random level:\n",
    "robotArm = RobotArm()\n",
    "robotArm.randomLevel(1,7)\n",
    "\n",
    "# Jouw python instructies zet je vanaf hier:\n",
    "\n",
    "\n",
    "# Na jouw code wachten tot het sluiten van de window:\n",
    "robotArm.wait()"
   ]
  }
 ],
 "metadata": {
  "kernelspec": {
   "display_name": "Python 3.10.6 64-bit",
   "language": "python",
   "name": "python3"
  },
  "language_info": {
   "codemirror_mode": {
    "name": "ipython",
    "version": 3
   },
   "file_extension": ".py",
   "mimetype": "text/x-python",
   "name": "python",
   "nbconvert_exporter": "python",
   "pygments_lexer": "ipython3",
   "version": "3.10.6"
  },
  "orig_nbformat": 4,
  "vscode": {
   "interpreter": {
    "hash": "916dbcbb3f70747c44a77c7bcd40155683ae19c65e1c03b4aa3499c5328201f1"
   }
  }
 },
 "nbformat": 4,
 "nbformat_minor": 2
}